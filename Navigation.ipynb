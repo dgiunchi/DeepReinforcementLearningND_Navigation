{
 "cells": [
  {
   "cell_type": "markdown",
   "metadata": {},
   "source": [
    "# Navigation\n",
    "\n",
    "---\n",
    "\n",
    "In this notebook, you will learn how to use the Unity ML-Agents environment for the first project of the [Deep Reinforcement Learning Nanodegree](https://www.udacity.com/course/deep-reinforcement-learning-nanodegree--nd893).\n",
    "\n",
    "### 1. Start the Environment\n",
    "\n",
    "We begin by importing some necessary packages.  If the code cell below returns an error, please revisit the project instructions to double-check that you have installed [Unity ML-Agents](https://github.com/Unity-Technologies/ml-agents/blob/master/docs/Installation.md) and [NumPy](http://www.numpy.org/)."
   ]
  },
  {
   "cell_type": "code",
   "execution_count": null,
   "metadata": {},
   "outputs": [],
   "source": [
    "from unityagents import UnityEnvironment\n",
    "import numpy as np"
   ]
  },
  {
   "cell_type": "markdown",
   "metadata": {},
   "source": [
    "Next, we will start the environment!  **_Before running the code cell below_**, change the `file_name` parameter to match the location of the Unity environment that you downloaded.\n",
    "\n",
    "- **Mac**: `\"path/to/Banana.app\"`\n",
    "- **Windows** (x86): `\"path/to/Banana_Windows_x86/Banana.exe\"`\n",
    "- **Windows** (x86_64): `\"path/to/Banana_Windows_x86_64/Banana.exe\"`\n",
    "- **Linux** (x86): `\"path/to/Banana_Linux/Banana.x86\"`\n",
    "- **Linux** (x86_64): `\"path/to/Banana_Linux/Banana.x86_64\"`\n",
    "- **Linux** (x86, headless): `\"path/to/Banana_Linux_NoVis/Banana.x86\"`\n",
    "- **Linux** (x86_64, headless): `\"path/to/Banana_Linux_NoVis/Banana.x86_64\"`\n",
    "\n",
    "For instance, if you are using a Mac, then you downloaded `Banana.app`.  If this file is in the same folder as the notebook, then the line below should appear as follows:\n",
    "```\n",
    "env = UnityEnvironment(file_name=\"Banana.app\")\n",
    "```"
   ]
  },
  {
   "cell_type": "code",
   "execution_count": null,
   "metadata": {},
   "outputs": [],
   "source": [
    "env = UnityEnvironment(file_name=\"./Banana_Windows_x86_64/Banana.app\")"
   ]
  },
  {
   "cell_type": "markdown",
   "metadata": {},
   "source": [
    "Environments contain **_brains_** which are responsible for deciding the actions of their associated agents. Here we check for the first brain available, and set it as the default brain we will be controlling from Python."
   ]
  },
  {
   "cell_type": "code",
   "execution_count": null,
   "metadata": {},
   "outputs": [],
   "source": [
    "# get the default brain\n",
    "brain_name = env.brain_names[0]\n",
    "brain = env.brains[brain_name]\n",
    "print(brain_name, brain)"
   ]
  },
  {
   "cell_type": "markdown",
   "metadata": {},
   "source": [
    "### 2. Examine the State and Action Spaces\n",
    "\n",
    "The simulation contains a single agent that navigates a large environment.  At each time step, it has four actions at its disposal:\n",
    "- `0` - walk forward \n",
    "- `1` - walk backward\n",
    "- `2` - turn left\n",
    "- `3` - turn right\n",
    "\n",
    "The state space has `37` dimensions and contains the agent's velocity, along with ray-based perception of objects around agent's forward direction.  A reward of `+1` is provided for collecting a yellow banana, and a reward of `-1` is provided for collecting a blue banana. \n",
    "\n",
    "Run the code cell below to print some information about the environment."
   ]
  },
  {
   "cell_type": "code",
   "execution_count": null,
   "metadata": {},
   "outputs": [],
   "source": [
    "# reset the environment\n",
    "env_info = env.reset(train_mode=True)[brain_name]\n",
    "\n",
    "# number of agents in the environment\n",
    "print('Number of agents:', len(env_info.agents))\n",
    "\n",
    "# number of actions\n",
    "action_size = brain.vector_action_space_size\n",
    "print('Number of actions:', action_size)\n",
    "\n",
    "# examine the state space \n",
    "state = env_info.vector_observations[0]\n",
    "print('States look like:', state)\n",
    "state_size = len(state)\n",
    "print('States have length:', state_size)"
   ]
  },
  {
   "cell_type": "markdown",
   "metadata": {},
   "source": [
    "### 3. Take Random Actions in the Environment\n",
    "\n",
    "In the next code cell, you will learn how to use the Python API to control the agent and receive feedback from the environment.\n",
    "\n",
    "Once this cell is executed, you will watch the agent's performance, if it selects an action (uniformly) at random with each time step.  A window should pop up that allows you to observe the agent, as it moves through the environment.  \n",
    "\n",
    "Of course, as part of the project, you'll have to change the code so that the agent is able to use its experience to gradually choose better actions when interacting with the environment!"
   ]
  },
  {
   "cell_type": "code",
   "execution_count": null,
   "metadata": {},
   "outputs": [],
   "source": [
    "env_info = env.reset(train_mode=False)[brain_name] # reset the environment\n",
    "state = env_info.vector_observations[0]            # get the current state\n",
    "score = 0                                          # initialize the score\n",
    "while True:\n",
    "    action = np.random.randint(action_size)        # select an action\n",
    "    env_info = env.step(action)[brain_name]        # send the action to the environment\n",
    "    next_state = env_info.vector_observations[0]   # get the next state\n",
    "    reward = env_info.rewards[0]                   # get the reward\n",
    "    done = env_info.local_done[0]                  # see if episode has finished\n",
    "    score += reward                                # update the score\n",
    "    state = next_state                             # roll over the state to next time step\n",
    "    if done:                                       # exit loop if episode finished\n",
    "        break\n",
    "    \n",
    "print(\"Score: {}\".format(score))"
   ]
  },
  {
   "cell_type": "markdown",
   "metadata": {},
   "source": [
    "When finished, you can close the environment."
   ]
  },
  {
   "cell_type": "code",
   "execution_count": null,
   "metadata": {},
   "outputs": [],
   "source": [
    "env.close()"
   ]
  },
  {
   "cell_type": "markdown",
   "metadata": {},
   "source": [
    "### 4. It's Your Turn!\n",
    "\n",
    "Now it's your turn to train your own agent to solve the environment!  When training the environment, set `train_mode=True`, so that the line for resetting the environment looks like the following:\n",
    "```python\n",
    "env_info = env.reset(train_mode=True)[brain_name]\n",
    "```"
   ]
  },
  {
   "cell_type": "code",
   "execution_count": 1,
   "metadata": {},
   "outputs": [
    {
     "name": "stderr",
     "output_type": "stream",
     "text": [
      "INFO:unityagents:\n",
      "'Academy' started successfully!\n",
      "Unity Academy name: Academy\n",
      "        Number of Brains: 1\n",
      "        Number of External Brains : 1\n",
      "        Lesson number : 0\n",
      "        Reset Parameters :\n",
      "\t\t\n",
      "Unity brain name: BananaBrain\n",
      "        Number of Visual Observations (per agent): 0\n",
      "        Vector Observation space type: continuous\n",
      "        Vector Observation space size (per agent): 37\n",
      "        Number of stacked Vector Observation: 1\n",
      "        Vector Action space type: discrete\n",
      "        Vector Action space size (per agent): 4\n",
      "        Vector Action descriptions: , , , \n"
     ]
    }
   ],
   "source": [
    "import torch\n",
    "from collections import deque\n",
    "\n",
    "from unityagents import UnityEnvironment\n",
    "import numpy as np\n",
    "import random\n",
    "from dqnagent import Agent\n",
    "from model import DQNetwork\n",
    "\n",
    "\n",
    "env = UnityEnvironment(file_name=\"./Banana_Windows_x86_64/Banana.exe\")\n",
    "brain_name = env.brain_names[0]\n",
    "brain = env.brains[brain_name]\n",
    "\n",
    "env_info = env.reset(train_mode=True)[brain_name] # reset the environment\n",
    "action_size = brain.vector_action_space_size\n",
    "state = env_info.vector_observations[0]\n",
    "state_size = len(state)\n",
    "\n",
    "def dqn(agent, n_episodes=2000, eps_start=1.0, eps_end=0.01, eps_decay=0.995):\n",
    "    \"\"\"Deep Q-Learning.\n",
    "    \n",
    "    Params\n",
    "    ======\n",
    "        n_episodes (int): maximum number of training episodes\n",
    "        max_t (int): maximum number of timesteps per episode\n",
    "        eps_start (float): starting value of epsilon, for epsilon-greedy action selection\n",
    "        eps_end (float): minimum value of epsilon\n",
    "        eps_decay (float): multiplicative factor (per episode) for decreasing epsilon\n",
    "    \"\"\"\n",
    "    scores = []                        # list containing scores from each episode\n",
    "    scores_window = deque(maxlen=100)  # last 100 scores\n",
    "    eps = eps_start                    # initialize epsilon\n",
    "    for i_episode in range(1, n_episodes+1):\n",
    "        env_info = env.reset(train_mode=agent.train)[brain_name]\n",
    "        state = env_info.vector_observations[0]\n",
    "        score = 0\n",
    "        while True:\n",
    "            action = agent.act(state, eps)\n",
    "            env_info = env.step(action)[brain_name]\n",
    "            next_state = env_info.vector_observations[0]   # get the next state\n",
    "            reward = env_info.rewards[0]                   # get the reward\n",
    "            done = env_info.local_done[0]                  # see if episode has finished\n",
    "            \n",
    "            agent.step(state, action, reward, next_state, done)\n",
    "            state = next_state\n",
    "            score += reward\n",
    "            if done:\n",
    "                break \n",
    "        scores_window.append(score)       # save most recent score\n",
    "        scores.append(score)              # save most recent score\n",
    "        eps = max(eps_end, eps_decay*eps) # decrease epsilon\n",
    "        print('\\rEpisode {}\\tAverage Score: {:.2f}'.format(i_episode, np.mean(scores_window)), end=\"\")\n",
    "        if i_episode % 100 == 0:\n",
    "            print('\\rEpisode {}\\tAverage Score: {:.2f}'.format(i_episode, np.mean(scores_window)))\n",
    "        if np.mean(scores_window)>=13.0:\n",
    "            print('\\nEnvironment solved in {:d} episodes!\\tAverage Score: {:.2f}'.format(i_episode-100, np.mean(scores_window)))\n",
    "            torch.save(agent.qnetwork_local.state_dict(), 'checkpoint_v_' + agent.modelname + \"_\" + agent.dqntype + '.pth')\n",
    "            break\n",
    "    return scores\n",
    "\n",
    "\n"
   ]
  },
  {
   "cell_type": "code",
   "execution_count": 2,
   "metadata": {},
   "outputs": [
    {
     "name": "stdout",
     "output_type": "stream",
     "text": [
      "DQNetwork(\n",
      "  (fc1): Linear(in_features=37, out_features=64, bias=True)\n",
      "  (fc2): Linear(in_features=64, out_features=64, bias=True)\n",
      "  (fc3): Linear(in_features=64, out_features=4, bias=True)\n",
      ")\n",
      "DQNetwork\n",
      "Episode 100\tAverage Score: 1.24\n",
      "Episode 200\tAverage Score: 5.21\n",
      "Episode 300\tAverage Score: 8.04\n",
      "Episode 400\tAverage Score: 10.83\n",
      "Episode 500\tAverage Score: 12.72\n",
      "Episode 512\tAverage Score: 13.06\n",
      "Environment solved in 412 episodes!\tAverage Score: 13.06\n"
     ]
    }
   ],
   "source": [
    "agent = Agent(state_size=state_size, action_size=action_size, train = True, modeltype = DQNetwork ,seed=0)\n",
    "print(agent.modelname)\n",
    "scores = dqn(agent)"
   ]
  },
  {
   "cell_type": "code",
   "execution_count": 3,
   "metadata": {},
   "outputs": [
    {
     "data": {
      "image/png": "[encoded data removed]",
      "text/plain": [
       "<Figure size 432x288 with 1 Axes>"
      ]
     },
     "metadata": {},
     "output_type": "display_data"
    }
   ],
   "source": [
    "# plot the scores\n",
    "from matplotlib import pyplot as plt\n",
    "%matplotlib inline\n",
    "# plot the scores\n",
    "fig = plt.figure()\n",
    "ax = fig.add_subplot(111)\n",
    "plt.plot(np.arange(len(scores)), scores)\n",
    "plt.ylabel('Score')\n",
    "plt.xlabel('Episode #')\n",
    "plt.show()"
   ]
  },
  {
   "cell_type": "code",
   "execution_count": 4,
   "metadata": {},
   "outputs": [
    {
     "name": "stdout",
     "output_type": "stream",
     "text": [
      "\r",
      "Episode 1\tAverage Score: 16.00\n",
      "Environment solved in -99 episodes!\tAverage Score: 16.00\n"
     ]
    }
   ],
   "source": [
    "#agent.qnetwork_local.load_state_dict(torch.load('checkpoint_dqn.pth'))\n",
    "agent.setTrain(False)\n",
    "scoresDQN = dqn(agent, 100)"
   ]
  },
  {
   "cell_type": "code",
   "execution_count": 5,
   "metadata": {},
   "outputs": [
    {
     "name": "stdout",
     "output_type": "stream",
     "text": [
      "DQNetwork(\n",
      "  (fc1): Linear(in_features=37, out_features=64, bias=True)\n",
      "  (fc2): Linear(in_features=64, out_features=64, bias=True)\n",
      "  (fc3): Linear(in_features=64, out_features=4, bias=True)\n",
      ")\n",
      "Episode 100\tAverage Score: 0.14\n",
      "Episode 200\tAverage Score: 0.37\n",
      "Episode 300\tAverage Score: 0.98\n",
      "Episode 400\tAverage Score: 1.77\n",
      "Episode 500\tAverage Score: 3.74\n",
      "Episode 600\tAverage Score: 5.70\n",
      "Episode 700\tAverage Score: 4.80\n",
      "Episode 800\tAverage Score: 2.40\n",
      "Episode 900\tAverage Score: 1.61\n",
      "Episode 1000\tAverage Score: 1.04\n",
      "Episode 1100\tAverage Score: 1.21\n",
      "Episode 1200\tAverage Score: 3.03\n",
      "Episode 1300\tAverage Score: 10.58\n",
      "Episode 1400\tAverage Score: 11.59\n",
      "Episode 1500\tAverage Score: 12.98\n",
      "Episode 1503\tAverage Score: 13.02\n",
      "Environment solved in 1403 episodes!\tAverage Score: 13.02\n"
     ]
    }
   ],
   "source": [
    "agent = Agent(state_size=state_size, action_size=action_size, train = True, modeltype = DQNetwork ,seed=10, dqntype = \"DDQN\")\n",
    "scores = dqn(agent,3000)"
   ]
  },
  {
   "cell_type": "code",
   "execution_count": 6,
   "metadata": {},
   "outputs": [
    {
     "data": {
      "image/png": "[encoded data removed]",
      "text/plain": [
       "<Figure size 432x288 with 1 Axes>"
      ]
     },
     "metadata": {},
     "output_type": "display_data"
    }
   ],
   "source": [
    "# plot the scores\n",
    "from matplotlib import pyplot as plt\n",
    "%matplotlib inline\n",
    "fig = plt.figure()\n",
    "ax = fig.add_subplot(111)\n",
    "plt.plot(np.arange(len(scores)), scores)\n",
    "plt.ylabel('Score')\n",
    "plt.xlabel('Episode #')\n",
    "plt.show()"
   ]
  },
  {
   "cell_type": "code",
   "execution_count": 7,
   "metadata": {},
   "outputs": [
    {
     "name": "stdout",
     "output_type": "stream",
     "text": [
      "Episode 12\tAverage Score: 13.00\n",
      "Environment solved in -88 episodes!\tAverage Score: 13.00\n"
     ]
    }
   ],
   "source": [
    "#agent.qnetwork_local.load_state_dict(torch.load('checkpoint_....pth'))\n",
    "agent.setTrain(False)\n",
    "scoresDDQN = dqn(agent, 100)"
   ]
  },
  {
   "cell_type": "code",
   "execution_count": 8,
   "metadata": {},
   "outputs": [],
   "source": [
    "env.close()"
   ]
  },
  {
   "cell_type": "code",
   "execution_count": 9,
   "metadata": {},
   "outputs": [],
   "source": [
    "from graphviz import Digraph\n",
    "import torch\n",
    "from torch.autograd import Variable\n",
    "\n",
    "\n",
    "def make_dot(var, params):\n",
    "    \"\"\" Produces Graphviz representation of PyTorch autograd graph\n",
    "    \n",
    "    Blue nodes are the Variables that require grad, orange are Tensors\n",
    "    saved for backward in torch.autograd.Function\n",
    "    \n",
    "    Args:\n",
    "        var: output Variable\n",
    "        params: dict of (name, Variable) to add names to node that\n",
    "            require grad (TODO: make optional)\n",
    "    \"\"\"\n",
    "    param_map = {id(v): k for k, v in params.items()}\n",
    "    print(param_map)\n",
    "    \n",
    "    node_attr = dict(style='filled',\n",
    "                     shape='box',\n",
    "                     align='left',\n",
    "                     fontsize='12',\n",
    "                     ranksep='0.1',\n",
    "                     height='0.2')\n",
    "    dot = Digraph(node_attr=node_attr, graph_attr=dict(size=\"12,12\"))\n",
    "    seen = set()\n",
    "    \n",
    "    def size_to_str(size):\n",
    "        return '('+(', ').join(['%d'% v for v in size])+')'\n",
    "\n",
    "    def add_nodes(var):\n",
    "        if var not in seen:\n",
    "            if torch.is_tensor(var):\n",
    "                dot.node(str(id(var)), size_to_str(var.size()), fillcolor='orange')\n",
    "            elif hasattr(var, 'variable'):\n",
    "                u = var.variable\n",
    "                node_name = '%s\\n %s' % (param_map.get(id(u)), size_to_str(u.size()))\n",
    "                dot.node(str(id(var)), node_name, fillcolor='lightblue')\n",
    "            else:\n",
    "                dot.node(str(id(var)), str(type(var).__name__))\n",
    "            seen.add(var)\n",
    "            if hasattr(var, 'next_functions'):\n",
    "                for u in var.next_functions:\n",
    "                    if u[0] is not None:\n",
    "                        dot.edge(str(id(u[0])), str(id(var)))\n",
    "                        add_nodes(u[0])\n",
    "            if hasattr(var, 'saved_tensors'):\n",
    "                for t in var.saved_tensors:\n",
    "                    dot.edge(str(id(t)), str(id(var)))\n",
    "                    add_nodes(t)\n",
    "    add_nodes(var.grad_fn)\n",
    "    return dot\n",
    "\n"
   ]
  },
  {
   "cell_type": "code",
   "execution_count": 10,
   "metadata": {},
   "outputs": [
    {
     "name": "stdout",
     "output_type": "stream",
     "text": [
      "{2006924853184: 'conv1.weight', 2006924914904: 'bn1.weight', 2006924914976: 'bn1.bias', 2006924915048: 'bn1.running_mean', 2006924915192: 'bn1.running_var', 2006924915264: 'bn1.num_batches_tracked', 2006924915768: 'layer1.0.conv1.weight', 2006924915984: 'layer1.0.bn1.weight', 2006924916128: 'layer1.0.bn1.bias', 2006924916272: 'layer1.0.bn1.running_mean', 2006924916344: 'layer1.0.bn1.running_var', 2006924916416: 'layer1.0.bn1.num_batches_tracked', 2006924916632: 'layer1.0.conv2.weight', 2006924916848: 'layer1.0.bn2.weight', 2006924916992: 'layer1.0.bn2.bias', 2006924917136: 'layer1.0.bn2.running_mean', 2006924917208: 'layer1.0.bn2.running_var', 2006924917280: 'layer1.0.bn2.num_batches_tracked', 2006924917496: 'layer1.1.conv1.weight', 2006924917712: 'layer1.1.bn1.weight', 2006924917856: 'layer1.1.bn1.bias', 2006924918000: 'layer1.1.bn1.running_mean', 2006924918072: 'layer1.1.bn1.running_var', 2006924918144: 'layer1.1.bn1.num_batches_tracked', 2006924918360: 'layer1.1.conv2.weight', 2006924918576: 'layer1.1.bn2.weight', 2006924918720: 'layer1.1.bn2.bias', 2006924927120: 'layer1.1.bn2.running_mean', 2006924927192: 'layer1.1.bn2.running_var', 2006924927264: 'layer1.1.bn2.num_batches_tracked', 2006924927552: 'layer2.0.conv1.weight', 2006924927768: 'layer2.0.bn1.weight', 2006924927912: 'layer2.0.bn1.bias', 2006924928056: 'layer2.0.bn1.running_mean', 2006924928128: 'layer2.0.bn1.running_var', 2006924928200: 'layer2.0.bn1.num_batches_tracked', 2006924928416: 'layer2.0.conv2.weight', 2006924928632: 'layer2.0.bn2.weight', 2006924928776: 'layer2.0.bn2.bias', 2006924928920: 'layer2.0.bn2.running_mean', 2006924928992: 'layer2.0.bn2.running_var', 2006924929064: 'layer2.0.bn2.num_batches_tracked', 2006924929568: 'layer2.0.downsample.0.weight', 2006924929784: 'layer2.0.downsample.1.weight', 2006924929856: 'layer2.0.downsample.1.bias', 2006924929928: 'layer2.0.downsample.1.running_mean', 2006924930000: 'layer2.0.downsample.1.running_var', 2006924930072: 'layer2.0.downsample.1.num_batches_tracked', 2006924930144: 'layer2.1.conv1.weight', 2006924930360: 'layer2.1.bn1.weight', 2006924930504: 'layer2.1.bn1.bias', 2006924930648: 'layer2.1.bn1.running_mean', 2006924930720: 'layer2.1.bn1.running_var', 2006924930792: 'layer2.1.bn1.num_batches_tracked', 2006924931008: 'layer2.1.conv2.weight', 2006924931288: 'layer2.1.bn2.weight', 2006924931432: 'layer2.1.bn2.bias', 2006924931576: 'layer2.1.bn2.running_mean', 2006924931648: 'layer2.1.bn2.running_var', 2006924931720: 'layer2.1.bn2.num_batches_tracked', 2006924932008: 'layer3.0.conv1.weight', 2006924932224: 'layer3.0.bn1.weight', 2006924932368: 'layer3.0.bn1.bias', 2006924932512: 'layer3.0.bn1.running_mean', 2006924932584: 'layer3.0.bn1.running_var', 2006924932656: 'layer3.0.bn1.num_batches_tracked', 2006924932872: 'layer3.0.conv2.weight', 2006924933088: 'layer3.0.bn2.weight', 2006924933232: 'layer3.0.bn2.bias', 2006924933376: 'layer3.0.bn2.running_mean', 2006924933448: 'layer3.0.bn2.running_var', 2006924933520: 'layer3.0.bn2.num_batches_tracked', 2006924934024: 'layer3.0.downsample.0.weight', 2006924934240: 'layer3.0.downsample.1.weight', 2006924934312: 'layer3.0.downsample.1.bias', 2006924934384: 'layer3.0.downsample.1.running_mean', 2006924934456: 'layer3.0.downsample.1.running_var', 2006924934528: 'layer3.0.downsample.1.num_batches_tracked', 2006924934600: 'layer3.1.conv1.weight', 2006924934816: 'layer3.1.bn1.weight', 2006924934960: 'layer3.1.bn1.bias', 2006924935104: 'layer3.1.bn1.running_mean', 2006924943432: 'layer3.1.bn1.running_var', 2006924943504: 'layer3.1.bn1.num_batches_tracked', 2006924943720: 'layer3.1.conv2.weight', 2006924943936: 'layer3.1.bn2.weight', 2006924944080: 'layer3.1.bn2.bias', 2006924944224: 'layer3.1.bn2.running_mean', 2006924944296: 'layer3.1.bn2.running_var', 2006924944368: 'layer3.1.bn2.num_batches_tracked', 2006924944656: 'layer4.0.conv1.weight', 2006924944872: 'layer4.0.bn1.weight', 2006924945016: 'layer4.0.bn1.bias', 2006924945160: 'layer4.0.bn1.running_mean', 2006924945232: 'layer4.0.bn1.running_var', 2006924945304: 'layer4.0.bn1.num_batches_tracked', 2006924945520: 'layer4.0.conv2.weight', 2006924945736: 'layer4.0.bn2.weight', 2006924945880: 'layer4.0.bn2.bias', 2006924946024: 'layer4.0.bn2.running_mean', 2006924946096: 'layer4.0.bn2.running_var', 2006924946168: 'layer4.0.bn2.num_batches_tracked', 2006924946672: 'layer4.0.downsample.0.weight', 2006924946888: 'layer4.0.downsample.1.weight', 2006924946960: 'layer4.0.downsample.1.bias', 2006924947032: 'layer4.0.downsample.1.running_mean', 2006924947104: 'layer4.0.downsample.1.running_var', 2006924947176: 'layer4.0.downsample.1.num_batches_tracked', 2006924947248: 'layer4.1.conv1.weight', 2006924955720: 'layer4.1.bn1.weight', 2006924955864: 'layer4.1.bn1.bias', 2006924956008: 'layer4.1.bn1.running_mean', 2006924956080: 'layer4.1.bn1.running_var', 2006924956152: 'layer4.1.bn1.num_batches_tracked', 2006924956368: 'layer4.1.conv2.weight', 2006924956584: 'layer4.1.bn2.weight', 2006924956728: 'layer4.1.bn2.bias', 2006924956872: 'layer4.1.bn2.running_mean', 2006924956944: 'layer4.1.bn2.running_var', 2006924957016: 'layer4.1.bn2.num_batches_tracked', 2006924957232: 'fc.weight', 2006924957304: 'fc.bias'}\n"
     ]
    },
    {
     "data": {
      "text/plain": [
       "'Digraph.gv.pdf'"
      ]
     },
     "execution_count": 10,
     "metadata": {},
     "output_type": "execute_result"
    }
   ],
   "source": [
    "from torchvision import models\n",
    "inputs = torch.randn(1,3,224,224)\n",
    "resnet18 = models.resnet18()\n",
    "y = resnet18(Variable(inputs))\n",
    "# print(y)\n",
    "\n",
    "g = make_dot(y, resnet18.state_dict())\n",
    "g.view()"
   ]
  },
  {
   "cell_type": "code",
   "execution_count": null,
   "metadata": {},
   "outputs": [],
   "source": []
  }
 ],
 "metadata": {
  "kernelspec": {
   "display_name": "drlnd",
   "language": "python",
   "name": "drlnd"
  },
  "language_info": {
   "codemirror_mode": {
    "name": "ipython",
    "version": 3
   },
   "file_extension": ".py",
   "mimetype": "text/x-python",
   "name": "python",
   "nbconvert_exporter": "python",
   "pygments_lexer": "ipython3",
   "version": "3.6.5"
  }
 },
 "nbformat": 4,
 "nbformat_minor": 2
}
